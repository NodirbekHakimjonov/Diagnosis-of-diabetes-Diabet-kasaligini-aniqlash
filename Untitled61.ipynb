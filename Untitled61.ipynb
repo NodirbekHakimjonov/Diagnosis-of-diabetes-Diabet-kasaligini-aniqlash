{
  "nbformat": 4,
  "nbformat_minor": 0,
  "metadata": {
    "colab": {
      "name": "Untitled61.ipynb",
      "provenance": [],
      "authorship_tag": "ABX9TyPMGWDZdacwJCefWhEeXfoD",
      "include_colab_link": true
    },
    "kernelspec": {
      "name": "python3",
      "display_name": "Python 3"
    },
    "language_info": {
      "name": "python"
    }
  },
  "cells": [
    {
      "cell_type": "markdown",
      "metadata": {
        "id": "view-in-github",
        "colab_type": "text"
      },
      "source": [
        "<a href=\"https://colab.research.google.com/github/NodirbekHakimjonov/Diagnosis-of-diabetes-Diabet-kasaligini-aniqlash/blob/main/Untitled61.ipynb\" target=\"_parent\"><img src=\"https://colab.research.google.com/assets/colab-badge.svg\" alt=\"Open In Colab\"/></a>"
      ]
    },
    {
      "cell_type": "markdown",
      "source": [
        "DEEP LEARNING.\n",
        "#Suniy Neyron tarmoqlari yordamida mushuklarni taniy oladigan modul qurish"
      ],
      "metadata": {
        "id": "nMa_7FjBgOKw"
      }
    },
    {
      "cell_type": "code",
      "source": [
        "#kutubxona\n",
        "from fastai.vision.all import *\n",
        "from ipywidgets import widgets\n",
        "\n",
        "\n",
        "#data\n",
        "path=untar_data(URLs.PETS)\\'images\n",
        "\n",
        "\n",
        "#labellovchi funksiya\n",
        "def is_cat(x): return x[p].isupper()\n",
        "    \n",
        "#datalarni yuklovchi(dataloaders)\n",
        "dls=ImageDataLoaders.from_name_func(\n",
        "    path,get_images_files(path),valid=0.2, seed=42,\n",
        "    labe\n",
        ")\n"
      ],
      "metadata": {
        "id": "lwAXvPYXg-gO"
      },
      "execution_count": null,
      "outputs": []
    }
  ]
}